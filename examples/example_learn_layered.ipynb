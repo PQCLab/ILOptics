{
 "cells": [
  {
   "cell_type": "markdown",
   "id": "55a3b7ea",
   "metadata": {},
   "source": [
    "# This notebook shows an example of leaning layered architecture of reconfigurable linear optical interferometer"
   ]
  },
  {
   "cell_type": "code",
   "execution_count": 1,
   "id": "206b658f",
   "metadata": {},
   "outputs": [],
   "source": [
    "from iloptics.layered import Layered\n",
    "from iloptics.benchmarks import df95, dt_max"
   ]
  },
  {
   "cell_type": "markdown",
   "id": "3a9f1d54",
   "metadata": {},
   "source": [
    "### Create a dummy instance of interferometer and get the measurment protocol to learn the mixing layers"
   ]
  },
  {
   "cell_type": "code",
   "execution_count": 2,
   "id": "e64794a8",
   "metadata": {},
   "outputs": [],
   "source": [
    "dim = 5  # Number of input/output modes\n",
    "max_columns = 1  # Maximum columns of mixing layer to learn at once\n",
    "lt = Layered.dummy(dim)\n",
    "proto = lt.learn_proto(max_columns)"
   ]
  },
  {
   "cell_type": "markdown",
   "id": "76ca6662",
   "metadata": {},
   "source": [
    "### Simulate the experiment"
   ]
  },
  {
   "cell_type": "code",
   "execution_count": 3,
   "id": "50622d37",
   "metadata": {},
   "outputs": [],
   "source": [
    "# Create an instance of true interferometer\n",
    "lt_true = Layered.generate(\n",
    "    dim=dim,\n",
    "    control_noise=1e-4,\n",
    "    control_cross_talk=0.1,\n",
    "    hadamard_like=True,\n",
    "    hadamard_error=0.1,\n",
    "    non_uniform_losses=0.,\n",
    "    noise_tomo=1e-4\n",
    ")\n",
    "\n",
    "# Simulate the measurements according to protocol\n",
    "data = []\n",
    "for p in proto:\n",
    "    lt_true.reset()\n",
    "    if p.controls is not None:\n",
    "        lt_true.control_layer(p.meta['phase_layer_idx'], p.controls)\n",
    "    data.append(lt_true.tomo())"
   ]
  },
  {
   "cell_type": "markdown",
   "id": "49b6ab09",
   "metadata": {},
   "source": [
    "### Do the learning using the unitary constraint and print benchmark values"
   ]
  },
  {
   "cell_type": "code",
   "execution_count": 4,
   "id": "994cc71d",
   "metadata": {},
   "outputs": [
    {
     "name": "stdout",
     "output_type": "stream",
     "text": [
      "Prediction error: 4.7044402802043346e-05\n",
      "Transmission coefficients reconstruction error: 0.00012302994788498944\n"
     ]
    }
   ],
   "source": [
    "lt.learn(proto, data, uni=True)\n",
    "print('Prediction error:', df95(lt, lt_true, 100))\n",
    "print('Transmission coefficients reconstruction error:', dt_max(lt, lt_true))"
   ]
  }
 ],
 "metadata": {
  "kernelspec": {
   "display_name": "Python 3 (ipykernel)",
   "language": "python",
   "name": "python3"
  },
  "language_info": {
   "codemirror_mode": {
    "name": "ipython",
    "version": 3
   },
   "file_extension": ".py",
   "mimetype": "text/x-python",
   "name": "python",
   "nbconvert_exporter": "python",
   "pygments_lexer": "ipython3",
   "version": "3.8.10"
  }
 },
 "nbformat": 4,
 "nbformat_minor": 5
}
